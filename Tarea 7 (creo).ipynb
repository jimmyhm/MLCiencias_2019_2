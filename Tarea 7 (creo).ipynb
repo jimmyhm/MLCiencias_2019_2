{
 "cells": [
  {
   "cell_type": "markdown",
   "metadata": {},
   "source": [
    "1. Este ejercicio es para que exploten el poder de su base de datos NoSQL.\n",
    "    1. Obtenga los primeros 10 delitos más cercanos al prometeo, tomar las siguientes coordenadas (19.3243311,-99.1795189).\n",
    "    1. Ahora obtenga los delitos en un radio de 1000m del prometeo. ¿Cuál es el delito más frecuente y el grupo más vulnerable por sexo?\n",
    "    \n",
    "2. Clasifique la base de datos de incumplimientos usando Arboles de Clasificación, Forest, Bagging, Bosting, con Scikit Learn, y con Boosted Trees de Tensor-Flow, compare y explique. Use un 70, 30 para entrenamiento y test.      "
   ]
  }
 ],
 "metadata": {
  "kernelspec": {
   "display_name": "Python 3",
   "language": "python",
   "name": "python3"
  },
  "language_info": {
   "codemirror_mode": {
    "name": "ipython",
    "version": 3
   },
   "file_extension": ".py",
   "mimetype": "text/x-python",
   "name": "python",
   "nbconvert_exporter": "python",
   "pygments_lexer": "ipython3",
   "version": "3.6.4"
  }
 },
 "nbformat": 4,
 "nbformat_minor": 2
}
