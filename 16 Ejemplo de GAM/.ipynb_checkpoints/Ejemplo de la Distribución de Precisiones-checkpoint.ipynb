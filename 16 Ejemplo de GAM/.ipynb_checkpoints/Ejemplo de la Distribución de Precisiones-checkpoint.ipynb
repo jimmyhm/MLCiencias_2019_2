{
 "cells": [
  {
   "cell_type": "code",
   "execution_count": 1,
   "metadata": {},
   "outputs": [],
   "source": [
    "# Bibliotecas\n",
    "import numpy  as np\n",
    "import pandas as pd \n",
    "import matplotlib.pyplot as plt; #%matplotlib inline\n",
    "import seaborn           as sns; sns.set()\n",
    "\n",
    "from sklearn.ensemble         import RandomForestClassifier\n",
    "from sklearn.metrics          import accuracy_score\n",
    "from sklearn.model_selection  import KFold, GridSearchCV, RepeatedStratifiedKFold\n",
    "\n",
    "from scipy.stats import norm, t as tstudent, beta, gaussian_kde\n",
    "\n",
    "from scipy.optimize import fmin, minimize, minimize_scalar, root_scalar\n",
    "from scipy import integrate\n",
    "\n",
    "import warnings\n",
    "warnings.filterwarnings(\"ignore\")"
   ]
  },
  {
   "cell_type": "code",
   "execution_count": 2,
   "metadata": {},
   "outputs": [
    {
     "data": {
      "text/html": [
       "<div>\n",
       "<style scoped>\n",
       "    .dataframe tbody tr th:only-of-type {\n",
       "        vertical-align: middle;\n",
       "    }\n",
       "\n",
       "    .dataframe tbody tr th {\n",
       "        vertical-align: top;\n",
       "    }\n",
       "\n",
       "    .dataframe thead th {\n",
       "        text-align: right;\n",
       "    }\n",
       "</style>\n",
       "<table border=\"1\" class=\"dataframe\">\n",
       "  <thead>\n",
       "    <tr style=\"text-align: right;\">\n",
       "      <th></th>\n",
       "      <th>Sepal_Length</th>\n",
       "      <th>Sepal_Width</th>\n",
       "      <th>Petal_Length</th>\n",
       "      <th>Petal_Width</th>\n",
       "      <th>Species</th>\n",
       "    </tr>\n",
       "  </thead>\n",
       "  <tbody>\n",
       "    <tr>\n",
       "      <th>0</th>\n",
       "      <td>5.1</td>\n",
       "      <td>3.5</td>\n",
       "      <td>1.4</td>\n",
       "      <td>0.2</td>\n",
       "      <td>setosa</td>\n",
       "    </tr>\n",
       "    <tr>\n",
       "      <th>1</th>\n",
       "      <td>4.9</td>\n",
       "      <td>3.0</td>\n",
       "      <td>1.4</td>\n",
       "      <td>0.2</td>\n",
       "      <td>setosa</td>\n",
       "    </tr>\n",
       "    <tr>\n",
       "      <th>2</th>\n",
       "      <td>4.7</td>\n",
       "      <td>3.2</td>\n",
       "      <td>1.3</td>\n",
       "      <td>0.2</td>\n",
       "      <td>setosa</td>\n",
       "    </tr>\n",
       "    <tr>\n",
       "      <th>3</th>\n",
       "      <td>4.6</td>\n",
       "      <td>3.1</td>\n",
       "      <td>1.5</td>\n",
       "      <td>0.2</td>\n",
       "      <td>setosa</td>\n",
       "    </tr>\n",
       "    <tr>\n",
       "      <th>4</th>\n",
       "      <td>5.0</td>\n",
       "      <td>3.6</td>\n",
       "      <td>1.4</td>\n",
       "      <td>0.2</td>\n",
       "      <td>setosa</td>\n",
       "    </tr>\n",
       "  </tbody>\n",
       "</table>\n",
       "</div>"
      ],
      "text/plain": [
       "   Sepal_Length  Sepal_Width  Petal_Length  Petal_Width Species\n",
       "0           5.1          3.5           1.4          0.2  setosa\n",
       "1           4.9          3.0           1.4          0.2  setosa\n",
       "2           4.7          3.2           1.3          0.2  setosa\n",
       "3           4.6          3.1           1.5          0.2  setosa\n",
       "4           5.0          3.6           1.4          0.2  setosa"
      ]
     },
     "execution_count": 2,
     "metadata": {},
     "output_type": "execute_result"
    }
   ],
   "source": [
    "datos_iris = pd.read_csv(\"iris.csv\")\n",
    "datos_iris.head()"
   ]
  },
  {
   "cell_type": "code",
   "execution_count": 3,
   "metadata": {},
   "outputs": [
    {
     "name": "stdout",
     "output_type": "stream",
     "text": [
      "Matriz de Diseño\n",
      "[[5.1 3.5 1.4 0.2]\n",
      " [4.9 3.0 1.4 0.2]\n",
      " [4.7 3.2 1.3 0.2]\n",
      " [4.6 3.1 1.5 0.2]\n",
      " [5.0 3.6 1.4 0.2]]\n",
      "\n",
      "Y Real\n",
      "['setosa' 'setosa' 'setosa' 'setosa' 'setosa']\n"
     ]
    }
   ],
   "source": [
    "matriz_diseño = datos_iris.values[:,0:4]\n",
    "y_real        = datos_iris.values[:,4]\n",
    "\n",
    "print(\"Matriz de Diseño\")\n",
    "print(matriz_diseño[0:5,:])\n",
    "print(\"\")\n",
    "print(\"Y Real\")\n",
    "print(y_real[0:5])"
   ]
  },
  {
   "cell_type": "code",
   "execution_count": 4,
   "metadata": {},
   "outputs": [
    {
     "name": "stdout",
     "output_type": "stream",
     "text": [
      "Precisión Media        = 0.9400000000000001\n",
      "Rango de Precisiones   = [0.7333333333333333, 1.0]\n",
      "Intervalo de Confianza = [0.8810648947423594, 0.9989351052576407]\n"
     ]
    }
   ],
   "source": [
    "# A continuación se muestra la idea general de K-Fold Validation\n",
    "\n",
    "alpha       = 0.05\n",
    "num_capas   = 10\n",
    "precisiones = np.array([]) # Generamos una lista que gaurde todos lo\n",
    "\n",
    "for indices_entrenamiento, indices_prueba in KFold(n_splits = num_capas, shuffle = False, random_state = 999 ).split( matriz_diseño ):\n",
    "    \n",
    "    # Datos de Entrenamiento\n",
    "    x_entrenamiento = matriz_diseño[ indices_entrenamiento ]\n",
    "    y_entrenamiento = y_real[ indices_entrenamiento ]\n",
    "    \n",
    "    # Creamos el modelo\n",
    "    # Nota :: Aqui todavia se pueden jugar con distintos parámetros que no sean por defecto\n",
    "    modelo_entrenamiento = RandomForestClassifier(random_state = 123 )\n",
    "    \n",
    "    # Ajustamos el modelo\n",
    "    modelo_entrenamiento.fit( x_entrenamiento, y_entrenamiento )\n",
    "    \n",
    "    # Datos de Prueba\n",
    "    x_prueba = matriz_diseño[ indices_prueba ]\n",
    "    y_prueba = y_real[ indices_prueba ]\n",
    "    \n",
    "    # Métricas del modelo\n",
    "    y_pronosticadas = modelo_entrenamiento.predict( x_prueba )\n",
    "    precisiones = np.append( precisiones, accuracy_score( y_prueba, y_pronosticadas ) )\n",
    "    \n",
    "#print( 'Precisiones            =', precisiones )\n",
    "print( 'Precisión Media        =', precisiones.mean() )\n",
    "print( 'Rango de Precisiones   =', [ precisiones.min(), precisiones.max() ] )\n",
    "print( 'Intervalo de Confianza =', [ precisiones.mean() - precisiones.std()/np.sqrt(len(matriz_diseño)) * tstudent.ppf(q = 1-alpha/2, df = np.sqrt(len(matriz_diseño)) / num_capas ),\n",
    "                                     precisiones.mean() + precisiones.std()/np.sqrt(len(matriz_diseño)) * tstudent.ppf(q = 1-alpha/2, df = np.sqrt(len(matriz_diseño)) / num_capas ) ] )\n"
   ]
  },
  {
   "cell_type": "code",
   "execution_count": 5,
   "metadata": {},
   "outputs": [
    {
     "name": "stdout",
     "output_type": "stream",
     "text": [
      "RandomForestClassifier(bootstrap=True, class_weight=None, criterion='gini',\n",
      "            max_depth=None, max_features='auto', max_leaf_nodes=None,\n",
      "            min_impurity_decrease=0.0, min_impurity_split=None,\n",
      "            min_samples_leaf=1, min_samples_split=2,\n",
      "            min_weight_fraction_leaf=0.0, n_estimators=100, n_jobs=None,\n",
      "            oob_score=False, random_state=None, verbose=0,\n",
      "            warm_start=False)\n",
      "2\n",
      "{'min_samples_leaf': 1, 'min_samples_split': 2, 'n_estimators': 100}\n",
      "0.9666666666666667\n"
     ]
    }
   ],
   "source": [
    "# Creamos un diccionario con todos los parámetros con los que queremos el modelo pruebe para encontrar la mejor combinacion\n",
    "parametros = {'min_samples_leaf':[1,3,5,7,8], 'n_estimators':[10,50,100,200], 'min_samples_split':[2,3,4,5] } \n",
    "\n",
    "# Creamos el objeto que realiza dicha busqueda\n",
    "modelos_propuestos  = GridSearchCV(\n",
    "                           estimator    = RandomForestClassifier(random_state=None),\n",
    "                           param_grid   = parametros,\n",
    "                           scoring      = None,\n",
    "                           fit_params   = None,\n",
    "                           n_jobs       = None,\n",
    "                           iid          = 'warn',\n",
    "                           refit        = True,\n",
    "                           cv           = 5,\n",
    "                           verbose      = 0,\n",
    "                           pre_dispatch = '2*n_jobs',\n",
    "                           error_score  = 'raise-deprecating',\n",
    "                           return_train_score = 'warn')\n",
    "\n",
    "# Ajustamos el modelo\n",
    "modelos_propuestos.fit( matriz_diseño, y_real )\n",
    "\n",
    "# Mostramos la configuración del mejor modelo\n",
    "print( modelos_propuestos.best_estimator_ )\n",
    "print( modelos_propuestos.best_index_ )\n",
    "print( modelos_propuestos.best_params_ )\n",
    "print( modelos_propuestos.best_score_ )\n",
    "\n",
    "# Guardamos el mejor modelo para continuar\n",
    "el_modelo = modelos_propuestos.best_estimator_"
   ]
  },
  {
   "cell_type": "markdown",
   "metadata": {},
   "source": [
    "### INTERVALO DE MAXIMA DENSIDAD"
   ]
  },
  {
   "cell_type": "code",
   "execution_count": 6,
   "metadata": {},
   "outputs": [],
   "source": [
    "# A continuación se muestra la idea general de K-Fold Validation\n",
    "alpha       = 0.05\n",
    "precisiones = np.array([]) # Generamos una lista que gaurde todos las precisiones\n",
    "for indices_entrenamiento, indices_prueba in RepeatedStratifiedKFold(n_splits=5, n_repeats=5, random_state=12345 ).split( matriz_diseño, y_real):\n",
    "    \n",
    "    # Datos de Entrenamiento\n",
    "    x_entrenamiento = matriz_diseño[ indices_entrenamiento ]\n",
    "    y_entrenamiento = y_real[ indices_entrenamiento ]\n",
    "    \n",
    "    # Creamos el modelo\n",
    "    # Nota :: Aqui todavia se pueden jugar con distintos parámetros que no sean por defecto\n",
    "    modelo_entrenamiento = RandomForestClassifier(random_state = 123 )\n",
    "    \n",
    "    # Ajustamos el modelo\n",
    "    modelo_entrenamiento.fit( x_entrenamiento, y_entrenamiento )\n",
    "    \n",
    "    # Datos de Prueba\n",
    "    x_prueba = matriz_diseño[ indices_prueba ]\n",
    "    y_prueba = y_real[ indices_prueba ]\n",
    "    \n",
    "    # Métricas del modelo\n",
    "    y_pronosticadas = modelo_entrenamiento.predict( x_prueba )\n",
    "    precisiones = np.append( precisiones, accuracy_score( y_prueba, y_pronosticadas ) )"
   ]
  },
  {
   "cell_type": "code",
   "execution_count": 7,
   "metadata": {},
   "outputs": [
    {
     "name": "stdout",
     "output_type": "stream",
     "text": [
      "Alpha-> 28.420047814207727 Beta-> 1.72851775956285\n"
     ]
    },
    {
     "data": {
      "image/png": "[encoded data removed]",
      "text/plain": [
       "<Figure size 1152x288 with 1 Axes>"
      ]
     },
     "metadata": {
      "needs_background": "light"
     },
     "output_type": "display_data"
    },
    {
     "data": {
      "image/png": "[encoded data removed]",
      "text/plain": [
       "<Figure size 1152x288 with 1 Axes>"
      ]
     },
     "metadata": {
      "needs_background": "light"
     },
     "output_type": "display_data"
    },
    {
     "name": "stdout",
     "output_type": "stream",
     "text": [
      "Intervalo Aprox. Normal ::  [0.9143406428674042, 0.9709926904659288] 0.0566520475985246 0.96\n",
      "Intervalo Percentiles   ::  (0.8378051805718367, 0.9943289640286276) 0.15652378345679085 0.9500000000000002\n",
      "Intervalo Mínimo        ::  (0.861010114721443, 0.9994928847580022) 0.1384827700365593 0.9500000555396871\n",
      "Precisión Aprox. Normal ::  0.9426666666666665\n",
      "Precisión Beta Media    ::  0.9426666666666667\n",
      "Precisión Beta Moda     ::  0.9741188318227592\n"
     ]
    }
   ],
   "source": [
    "# Estimamos los parámetros de la distribución Beta\n",
    "x_barra  = precisiones.mean()\n",
    "desv_est = precisiones.std()\n",
    "alpha_est     = x_barra * ( ( x_barra * (1-x_barra) ) / ( desv_est ** 2 ) - 1 )\n",
    "beta_est      = alpha_est * (1 - x_barra) / x_barra\n",
    "moda_est      = (alpha_est-1)/(alpha_est+beta_est-2)\n",
    "beta_ajustada = beta(a=alpha_est,b=beta_est)\n",
    "intervalo     = beta_ajustada.interval(alpha = 1-alpha)\n",
    "longitud      = intervalo[1] - intervalo[0]\n",
    "print(\"Alpha->\", alpha_est, \"Beta->\", beta_est)\n",
    "\n",
    "# Generamos una grafica para mostrar la estimacion de una beta\n",
    "plt.subplots( nrows=1, ncols=1, figsize=(16,4) )\n",
    "plt.title(\"Distribución de las precisiones del modelo\")\n",
    "plt.hist( x=precisiones, bins = 5, density=True )\n",
    "plt.plot( np.linspace(start=0,stop=1,num=1000), beta_ajustada.pdf(x=np.linspace(start=0,stop=1,num=1000) ) )\n",
    "plt.show()\n",
    "\n",
    "# Definimos nuestra función de error para encontrar el punto de corte adecuado\n",
    "# que nos proporcione el Intervalo de Menor Lonigtud\n",
    "def funcion_error(y0, alpha=0.05, *args):\n",
    "    from scipy import integrate\n",
    "    def beta_modificada( k ):\n",
    "        pdf = beta_ajustada.pdf( x = k )\n",
    "        #return np.array( [ x if x > y0 else 0 for x in pdf ] )\n",
    "        return pdf if pdf > y0 else 0 \n",
    "    area_curva = integrate.quad( func = beta_modificada, a = 0, b = 1, limit = 1000, epsabs=1E-5, epsrel=1E-5 )[0]\n",
    "    #area_curva = integrate.quadrature( func = beta_modificada, a = 0, b = 1, maxiter = 1000  )[0]\n",
    "    #area_curva = integrate.fixed_quad( func = beta_modificada, a = 0, b = 1, n = 500 )[0]\n",
    "    #return np.abs( area_curva - ( 1 - alpha ) )\n",
    "    return ( area_curva - ( 1 - alpha ) )**2\n",
    "\n",
    "# Optimizamos la función de error tal que nos de el punto de corte en Y tal que acumulemos el (1-alpha)% de probabilidad\n",
    "# Luego, como sabemos que es unimodal, el punto de corte solo debemos encontrar 2 puntos en el eje x\n",
    "# por lo que uno de ellos estará a la izquierda de la moda y el otro a la derecha de la moda\n",
    "#y_optima = fmin(func = funcion_error, x0 = np.mean( beta_ajustada.pdf( beta_ajustada.ppf([alpha/2, 1-alpha/2]) ) ), disp = False )\n",
    "y_optima = minimize_scalar(fun = funcion_error, bounds = np.sort( beta_ajustada.pdf( beta_ajustada.ppf([alpha/2, 1-alpha/2]) ) ) , method = \"Bounded\" ).x\n",
    "lim_inf  = root_scalar(f = lambda x: beta_ajustada.pdf(x) - y_optima, method=\"bisect\", bracket=[0,moda_est] ).root\n",
    "lim_sup  = root_scalar(f = lambda x: beta_ajustada.pdf(x) - y_optima, method=\"bisect\", bracket=[moda_est,1] ).root\n",
    "intervalo_min = (lim_inf, lim_sup)\n",
    "longitud_min  = lim_sup - lim_inf\n",
    "\n",
    "# Graficamos la distribución Beta Estimada\n",
    "x = np.arange(start=0, stop=1, step=0.001)\n",
    "y = beta_ajustada.pdf(x=x)\n",
    "plt.subplots(nrows=1, ncols=1, figsize=(16,4) )\n",
    "plt.title(\"Distribución Beta Ajustada\")\n",
    "plt.plot( x, y )\n",
    "plt.hlines( y=y_optima , xmin = lim_inf, xmax = lim_sup,  color=\"red\", linestyle = \"--\" )\n",
    "plt.vlines( x=lim_inf  , ymin = 0,       ymax = y_optima, color=\"red\", linestyle = \"--\" )\n",
    "plt.vlines( x=lim_sup  , ymin = 0,       ymax = y_optima, color=\"red\", linestyle = \"--\" )\n",
    "x_fill = np.arange(lim_inf, lim_sup, 1/1000)\n",
    "y_fill = beta_ajustada.pdf(x = x_fill)\n",
    "plt.fill_between( x_fill, y_fill, color = \"gray\", hatch = \"x\", alpha = 0.3  )\n",
    "plt.show()\n",
    "\n",
    "# INTERVALOS DE CONFIANZA\n",
    "intervalo_normal = [ precisiones.mean() - precisiones.std()/np.sqrt(len(matriz_diseño)) * tstudent.ppf(q = 1-alpha/2, df = np.sqrt(len(matriz_diseño)) / num_capas ),\n",
    "                                      precisiones.mean() + precisiones.std()/np.sqrt(len(matriz_diseño)) * tstudent.ppf(q = 1-alpha/2, df = np.sqrt(len(matriz_diseño)) / num_capas ) ]\n",
    "cuantiles_normal = np.quantile( a = precisiones, q = [0.05/2, 1-0.05/2] )\n",
    "print( 'Intervalo Aprox. Normal :: ', intervalo_normal, intervalo_normal[1]-intervalo_normal[0], np.mean(precisiones<=cuantiles_normal[1]) - np.mean(precisiones<=cuantiles_normal[0])  )\n",
    "print( \"Intervalo Percentiles   :: \", intervalo, longitud, beta_ajustada.cdf(intervalo[1]) - beta_ajustada.cdf(intervalo[0]) )\n",
    "print( \"Intervalo Mínimo        :: \", intervalo_min, longitud_min, beta_ajustada.cdf(intervalo_min[1]) - beta_ajustada.cdf(intervalo_min[0]) )\n",
    "\n",
    "# ESTIMACION PUNTUAL\n",
    "print( 'Precisión Aprox. Normal :: ', precisiones.mean() )\n",
    "print( 'Precisión Beta Media    :: ', alpha_est / (alpha_est + beta_est) )\n",
    "print( 'Precisión Beta Moda     :: ', moda_est )\n",
    "\n"
   ]
  },
  {
   "cell_type": "code",
   "execution_count": 8,
   "metadata": {},
   "outputs": [
    {
     "data": {
      "text/html": [
       "<div>\n",
       "<style scoped>\n",
       "    .dataframe tbody tr th:only-of-type {\n",
       "        vertical-align: middle;\n",
       "    }\n",
       "\n",
       "    .dataframe tbody tr th {\n",
       "        vertical-align: top;\n",
       "    }\n",
       "\n",
       "    .dataframe thead th {\n",
       "        text-align: right;\n",
       "    }\n",
       "</style>\n",
       "<table border=\"1\" class=\"dataframe\">\n",
       "  <thead>\n",
       "    <tr style=\"text-align: right;\">\n",
       "      <th></th>\n",
       "      <th>index</th>\n",
       "      <th>0</th>\n",
       "    </tr>\n",
       "  </thead>\n",
       "  <tbody>\n",
       "    <tr>\n",
       "      <th>5</th>\n",
       "      <td>0.833333</td>\n",
       "      <td>1</td>\n",
       "    </tr>\n",
       "    <tr>\n",
       "      <th>1</th>\n",
       "      <td>0.866667</td>\n",
       "      <td>1</td>\n",
       "    </tr>\n",
       "    <tr>\n",
       "      <th>2</th>\n",
       "      <td>0.900000</td>\n",
       "      <td>5</td>\n",
       "    </tr>\n",
       "    <tr>\n",
       "      <th>3</th>\n",
       "      <td>0.933333</td>\n",
       "      <td>4</td>\n",
       "    </tr>\n",
       "    <tr>\n",
       "      <th>4</th>\n",
       "      <td>0.966667</td>\n",
       "      <td>11</td>\n",
       "    </tr>\n",
       "    <tr>\n",
       "      <th>0</th>\n",
       "      <td>1.000000</td>\n",
       "      <td>3</td>\n",
       "    </tr>\n",
       "  </tbody>\n",
       "</table>\n",
       "</div>"
      ],
      "text/plain": [
       "      index   0\n",
       "5  0.833333   1\n",
       "1  0.866667   1\n",
       "2  0.900000   5\n",
       "3  0.933333   4\n",
       "4  0.966667  11\n",
       "0  1.000000   3"
      ]
     },
     "execution_count": 8,
     "metadata": {},
     "output_type": "execute_result"
    }
   ],
   "source": [
    "pd.value_counts( values = precisiones, sort = False ).reset_index().sort_values(by='index')"
   ]
  }
 ],
 "metadata": {
  "kernelspec": {
   "display_name": "Python 3",
   "language": "python",
   "name": "python3"
  },
  "language_info": {
   "codemirror_mode": {
    "name": "ipython",
    "version": 3
   },
   "file_extension": ".py",
   "mimetype": "text/x-python",
   "name": "python",
   "nbconvert_exporter": "python",
   "pygments_lexer": "ipython3",
   "version": "3.7.3"
  }
 },
 "nbformat": 4,
 "nbformat_minor": 2
}
